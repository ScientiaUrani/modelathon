{
 "cells": [
  {
   "cell_type": "code",
   "id": "initial_id",
   "metadata": {
    "collapsed": true,
    "ExecuteTime": {
     "end_time": "2025-07-29T15:32:24.655320Z",
     "start_time": "2025-07-29T15:32:24.177215Z"
    }
   },
   "source": [
    "import pandas as pd\n",
    "import numpy as np"
   ],
   "outputs": [],
   "execution_count": 1
  },
  {
   "metadata": {},
   "cell_type": "markdown",
   "source": "# Data analysis from covid-19 patient data up to this year",
   "id": "5379444f8509f8b5"
  },
  {
   "metadata": {},
   "cell_type": "markdown",
   "source": "> The i- prefix is used for data related to the indigenous poblation",
   "id": "8bafe73fa3a6facb"
  },
  {
   "metadata": {},
   "cell_type": "markdown",
   "source": "## Data get",
   "id": "5015f53fbaea4245"
  },
  {
   "metadata": {
    "ExecuteTime": {
     "end_time": "2025-07-29T15:32:25.852683Z",
     "start_time": "2025-07-29T15:32:24.685074Z"
    }
   },
   "cell_type": "code",
   "source": [
    "dataFrame = pd.read_csv(\"data/COVID19MEXICO.csv\")\n",
    "dataFrame.drop(\"ID_REGISTRO\", axis=1, inplace=True)\n",
    "dataFrame = dataFrame[dataFrame[\"TOMA_MUESTRA_ANTIGENO\"] == 2]\n",
    "idataFrame = dataFrame[dataFrame[\"TOMA_MUESTRA_ANTIGENO\"] == 2]\n",
    "\n",
    "idataFrame = dataFrame[dataFrame[\"INDIGENA\"] == 1]"
   ],
   "id": "dec1797b27f017ed",
   "outputs": [],
   "execution_count": 2
  },
  {
   "metadata": {
    "ExecuteTime": {
     "end_time": "2025-07-29T15:32:26.015592Z",
     "start_time": "2025-07-29T15:32:26.012951Z"
    }
   },
   "cell_type": "code",
   "source": [
    "relevantData  = dict()\n",
    "irelevantData = dict()\n",
    "totalSamples  = dataFrame.shape[0]\n",
    "itotalSamples  = idataFrame.shape[0]"
   ],
   "id": "a712842c5b840dcc",
   "outputs": [],
   "execution_count": 3
  },
  {
   "metadata": {},
   "cell_type": "markdown",
   "source": "## Basic and primitive data",
   "id": "d12db51d6f783512"
  },
  {
   "metadata": {},
   "cell_type": "markdown",
   "source": "### Male and female count",
   "id": "e4b6c2beb34215fd"
  },
  {
   "metadata": {
    "ExecuteTime": {
     "end_time": "2025-07-29T15:32:26.091944Z",
     "start_time": "2025-07-29T15:32:26.063604Z"
    }
   },
   "cell_type": "code",
   "source": [
    "counts  = dataFrame[\"SEXO\"].map({1: \"Female\", 2: \"Male\"}).value_counts()\n",
    "icounts = idataFrame[\"SEXO\"].map({1: \"Female\", 2: \"Male\"}).value_counts()\n",
    "\n",
    "relevantData[\"sex\"]  = counts.to_dict()\n",
    "irelevantData[\"sex\"] = icounts.to_dict()"
   ],
   "id": "26b7a881a2544c1c",
   "outputs": [],
   "execution_count": 4
  },
  {
   "metadata": {
    "ExecuteTime": {
     "end_time": "2025-07-29T15:32:26.395986Z",
     "start_time": "2025-07-29T15:32:26.387315Z"
    }
   },
   "cell_type": "code",
   "source": "relevantData",
   "id": "a80bc4e503874a70",
   "outputs": [
    {
     "data": {
      "text/plain": [
       "{'sex': {'Female': 155306, 'Male': 119955}}"
      ]
     },
     "execution_count": 5,
     "metadata": {},
     "output_type": "execute_result"
    }
   ],
   "execution_count": 5
  },
  {
   "metadata": {},
   "cell_type": "markdown",
   "source": "### Hospital type",
   "id": "dea4775784e8edbc"
  },
  {
   "metadata": {
    "ExecuteTime": {
     "end_time": "2025-07-29T15:32:26.704219Z",
     "start_time": "2025-07-29T15:32:26.613776Z"
    }
   },
   "cell_type": "code",
   "source": [
    "relevantData[\"hospitals\"] = dict()\n",
    "irelevantData[\"hospitals\"] = dict()\n",
    "\n",
    "# Private sector is 9 on database\n",
    "relevantData[\"hospitals\"] = {\n",
    "\t\"private\" : dataFrame[dataFrame[\"SECTOR\"] == 9].shape[0],\n",
    "\t\"public\"  : dataFrame[dataFrame[\"SECTOR\"] != 9].shape[0]\n",
    "}\n",
    "\n",
    "irelevantData[\"hospitals\"] = {\n",
    "\t\"private\" : idataFrame[dataFrame[\"SECTOR\"] == 9].shape[0],\n",
    "\t\"public\"  : idataFrame[idataFrame[\"SECTOR\"] != 9].shape[0]\n",
    "}\n"
   ],
   "id": "746fab50b0d92b7d",
   "outputs": [
    {
     "name": "stderr",
     "output_type": "stream",
     "text": [
      "/tmp/ipykernel_3544/116053268.py:11: UserWarning: Boolean Series key will be reindexed to match DataFrame index.\n",
      "  \"private\" : idataFrame[dataFrame[\"SECTOR\"] == 9].shape[0],\n"
     ]
    }
   ],
   "execution_count": 6
  },
  {
   "metadata": {
    "ExecuteTime": {
     "end_time": "2025-07-29T15:32:26.750935Z",
     "start_time": "2025-07-29T15:32:26.748824Z"
    }
   },
   "cell_type": "code",
   "source": "",
   "id": "ace0e4e9dcaca5f9",
   "outputs": [],
   "execution_count": null
  }
 ],
 "metadata": {
  "kernelspec": {
   "display_name": "Python 3",
   "language": "python",
   "name": "python3"
  },
  "language_info": {
   "codemirror_mode": {
    "name": "ipython",
    "version": 2
   },
   "file_extension": ".py",
   "mimetype": "text/x-python",
   "name": "python",
   "nbconvert_exporter": "python",
   "pygments_lexer": "ipython2",
   "version": "2.7.6"
  }
 },
 "nbformat": 4,
 "nbformat_minor": 5
}
