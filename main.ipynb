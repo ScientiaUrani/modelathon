{
 "cells": [
  {
   "cell_type": "code",
   "id": "initial_id",
   "metadata": {
    "collapsed": true,
    "ExecuteTime": {
     "end_time": "2025-07-29T05:41:14.042434Z",
     "start_time": "2025-07-29T05:41:13.757398Z"
    }
   },
   "source": [
    "import pandas as pd\n",
    "import numpy as np"
   ],
   "outputs": [],
   "execution_count": 1
  },
  {
   "metadata": {},
   "cell_type": "markdown",
   "source": "# Data analysis from covid-19 patient data up to this year",
   "id": "5379444f8509f8b5"
  },
  {
   "metadata": {},
   "cell_type": "markdown",
   "source": "> The i- prefix is used for data related to the indigenous poblation",
   "id": "8bafe73fa3a6facb"
  },
  {
   "metadata": {},
   "cell_type": "markdown",
   "source": "## Data get",
   "id": "5015f53fbaea4245"
  },
  {
   "metadata": {
    "ExecuteTime": {
     "end_time": "2025-07-29T05:41:15.167506Z",
     "start_time": "2025-07-29T05:41:14.149709Z"
    }
   },
   "cell_type": "code",
   "source": [
    "dataFrame = pd.read_csv(\"data/COVID19MEXICO.csv\")\n",
    "dataFrame.drop(\"ID_REGISTRO\", axis=1, inplace=True)\n",
    "\n",
    "idataFrame = dataFrame[dataFrame[\"INDIGENA\"] == 1]"
   ],
   "id": "dec1797b27f017ed",
   "outputs": [],
   "execution_count": 2
  },
  {
   "metadata": {
    "ExecuteTime": {
     "end_time": "2025-07-29T05:41:15.195022Z",
     "start_time": "2025-07-29T05:41:15.192044Z"
    }
   },
   "cell_type": "code",
   "source": [
    "relevantData  = dict()\n",
    "irelevantData = dict()\n",
    "totalSamples  = dataFrame.shape[0]\n",
    "itotalSamples  = idataFrame.shape[0]"
   ],
   "id": "a712842c5b840dcc",
   "outputs": [],
   "execution_count": 3
  },
  {
   "metadata": {},
   "cell_type": "markdown",
   "source": "## Basic and primitive data",
   "id": "d12db51d6f783512"
  },
  {
   "metadata": {},
   "cell_type": "markdown",
   "source": "### Male and female count",
   "id": "e4b6c2beb34215fd"
  },
  {
   "metadata": {
    "ExecuteTime": {
     "end_time": "2025-07-29T05:41:15.259807Z",
     "start_time": "2025-07-29T05:41:15.234266Z"
    }
   },
   "cell_type": "code",
   "source": [
    "counts  = dataFrame[\"SEXO\"].map({1: \"Female\", 2: \"Male\"}).value_counts()\n",
    "icounts = idataFrame[\"SEXO\"].map({1: \"Female\", 2: \"Male\"}).value_counts()\n",
    "\n",
    "relevantData[\"sex\"]  = counts.to_dict()\n",
    "irelevantData[\"sex\"] = icounts.to_dict()"
   ],
   "id": "26b7a881a2544c1c",
   "outputs": [],
   "execution_count": 4
  },
  {
   "metadata": {
    "ExecuteTime": {
     "end_time": "2025-07-29T05:41:15.302028Z",
     "start_time": "2025-07-29T05:41:15.293850Z"
    }
   },
   "cell_type": "code",
   "source": "relevantData",
   "id": "a80bc4e503874a70",
   "outputs": [
    {
     "data": {
      "text/plain": [
       "{'sex': {'Female': 155306, 'Male': 119955}}"
      ]
     },
     "execution_count": 5,
     "metadata": {},
     "output_type": "execute_result"
    }
   ],
   "execution_count": 5
  },
  {
   "metadata": {},
   "cell_type": "markdown",
   "source": "### Hospital type",
   "id": "dea4775784e8edbc"
  },
  {
   "metadata": {
    "ExecuteTime": {
     "end_time": "2025-07-29T05:41:15.422459Z",
     "start_time": "2025-07-29T05:41:15.356917Z"
    }
   },
   "cell_type": "code",
   "source": [
    "relevantData[\"hospitals\"] = dict()\n",
    "irelevantData[\"hospitals\"] = dict()\n",
    "\n",
    "# Private sector is 9 on database\n",
    "relevantData[\"hospitals\"] = {\n",
    "\t\"private\" : dataFrame[dataFrame[\"SECTOR\"] == 9].shape[0],\n",
    "\t\"public\"  : dataFrame[dataFrame[\"SECTOR\"] != 9].shape[0]\n",
    "}\n",
    "\n",
    "irelevantData[\"hospitals\"] = {\n",
    "\t\"private\" : idataFrame[dataFrame[\"SECTOR\"] == 9].shape[0],\n",
    "\t\"public\"  : idataFrame[idataFrame[\"SECTOR\"] != 9].shape[0]\n",
    "}\n"
   ],
   "id": "746fab50b0d92b7d",
   "outputs": [
    {
     "name": "stderr",
     "output_type": "stream",
     "text": [
      "/tmp/ipykernel_29678/912042656.py:11: UserWarning: Boolean Series key will be reindexed to match DataFrame index.\n",
      "  \"private\" : idataFrame[dataFrame[\"SECTOR\"] == 9].shape[0],\n"
     ]
    }
   ],
   "execution_count": 6
  },
  {
   "metadata": {
    "ExecuteTime": {
     "end_time": "2025-07-29T05:41:15.447460Z",
     "start_time": "2025-07-29T05:41:15.444111Z"
    }
   },
   "cell_type": "code",
   "source": "",
   "id": "ace0e4e9dcaca5f9",
   "outputs": [],
   "execution_count": null
  }
 ],
 "metadata": {
  "kernelspec": {
   "display_name": "Python 3",
   "language": "python",
   "name": "python3"
  },
  "language_info": {
   "codemirror_mode": {
    "name": "ipython",
    "version": 2
   },
   "file_extension": ".py",
   "mimetype": "text/x-python",
   "name": "python",
   "nbconvert_exporter": "python",
   "pygments_lexer": "ipython2",
   "version": "2.7.6"
  }
 },
 "nbformat": 4,
 "nbformat_minor": 5
}
